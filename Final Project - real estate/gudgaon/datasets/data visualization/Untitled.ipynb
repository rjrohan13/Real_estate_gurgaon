{
 "cells": [
  {
   "cell_type": "code",
   "execution_count": 1,
   "id": "b8b23c66",
   "metadata": {},
   "outputs": [],
   "source": [
    "import pandas as pd\n",
    "import numpy as np"
   ]
  },
  {
   "cell_type": "code",
   "execution_count": 2,
   "id": "0295e0ff",
   "metadata": {},
   "outputs": [],
   "source": [
    "df=pd.read_csv(\"gurgaon_properties_cleaned_v2.csv\")"
   ]
  },
  {
   "cell_type": "code",
   "execution_count": 3,
   "id": "3ceedab5",
   "metadata": {},
   "outputs": [
    {
     "data": {
      "text/plain": [
       "Index(['property_type', 'society', 'sector', 'price_cr', 'price_per_sqft',\n",
       "       'area', 'areaWithType', 'bedRoom', 'bathroom', 'balcony', 'floorNum',\n",
       "       'facing', 'agePossession', 'super_built_up_area', 'built_up_area',\n",
       "       'carpet_area', 'study room', 'servant room', 'store room', 'pooja room',\n",
       "       'others', 'furnishing_type', 'luxury_score', 'nearbyLoc_score'],\n",
       "      dtype='object')"
      ]
     },
     "execution_count": 3,
     "metadata": {},
     "output_type": "execute_result"
    }
   ],
   "source": [
    "df.columns"
   ]
  },
  {
   "cell_type": "code",
   "execution_count": 11,
   "id": "dd7076c7",
   "metadata": {},
   "outputs": [
    {
     "data": {
      "text/plain": [
       "75"
      ]
     },
     "execution_count": 11,
     "metadata": {},
     "output_type": "execute_result"
    }
   ],
   "source": [
    "df['nearbyLoc_score'].nunique()"
   ]
  },
  {
   "cell_type": "code",
   "execution_count": 7,
   "id": "ef35bab1",
   "metadata": {},
   "outputs": [
    {
     "data": {
      "text/plain": [
       "98"
      ]
     },
     "execution_count": 7,
     "metadata": {},
     "output_type": "execute_result"
    }
   ],
   "source": [
    "df['nearbyLoc_score'].max()"
   ]
  },
  {
   "cell_type": "code",
   "execution_count": null,
   "id": "4d388cbe",
   "metadata": {},
   "outputs": [],
   "source": [
    "df['new_loc_per']=df['nearbyLoc_score']"
   ]
  },
  {
   "cell_type": "code",
   "execution_count": 12,
   "id": "1f72385c",
   "metadata": {},
   "outputs": [],
   "source": [
    "df['nearbyLoc_percentage'] = ((df['nearbyLoc_score'] - 0) / (98 - 0)) * 100\n",
    "df['nearbyLoc_percentage'] += 750\n"
   ]
  },
  {
   "cell_type": "code",
   "execution_count": 13,
   "id": "4a712476",
   "metadata": {},
   "outputs": [
    {
     "data": {
      "text/plain": [
       "0       809.183673\n",
       "1       812.244898\n",
       "2       786.734694\n",
       "3       800.000000\n",
       "4       779.591837\n",
       "           ...    \n",
       "3836    812.244898\n",
       "3837    806.122449\n",
       "3838    804.081633\n",
       "3839    814.285714\n",
       "3840    790.816327\n",
       "Name: nearbyLoc_percentage, Length: 3841, dtype: float64"
      ]
     },
     "execution_count": 13,
     "metadata": {},
     "output_type": "execute_result"
    }
   ],
   "source": [
    "df['nearbyLoc_percentage']"
   ]
  },
  {
   "cell_type": "code",
   "execution_count": 14,
   "id": "f48ce2f6",
   "metadata": {},
   "outputs": [],
   "source": [
    "df['nearbyLoc_percentage1'] = ((df['nearbyLoc_score'] - 0) / (98 - 0)) * 100"
   ]
  },
  {
   "cell_type": "code",
   "execution_count": 16,
   "id": "fa2629a4",
   "metadata": {},
   "outputs": [
    {
     "data": {
      "text/plain": [
       "100.0"
      ]
     },
     "execution_count": 16,
     "metadata": {},
     "output_type": "execute_result"
    }
   ],
   "source": [
    "df['nearbyLoc_percentage1']"
   ]
  },
  {
   "cell_type": "code",
   "execution_count": 17,
   "id": "c6eb9f5a",
   "metadata": {},
   "outputs": [
    {
     "name": "stderr",
     "output_type": "stream",
     "text": [
      "C:\\Users\\HP\\AppData\\Local\\Temp\\ipykernel_9428\\144692134.py:1: FutureWarning: The default value of numeric_only in DataFrame.corr is deprecated. In a future version, it will default to False. Select only valid columns or specify the value of numeric_only to silence this warning.\n",
      "  df.corr()['price_cr'].sort_values(ascending=False)\n"
     ]
    },
    {
     "data": {
      "text/plain": [
       "price_cr                 1.000000\n",
       "super_built_up_area      0.771431\n",
       "bathroom                 0.569422\n",
       "bedRoom                  0.503243\n",
       "servant room             0.401167\n",
       "price_per_sqft           0.396635\n",
       "pooja room               0.339586\n",
       "store room               0.305395\n",
       "study room               0.256776\n",
       "furnishing_type          0.240554\n",
       "nearbyLoc_score          0.192679\n",
       "nearbyLoc_percentage1    0.192679\n",
       "nearbyLoc_percentage     0.192679\n",
       "luxury_score             0.099046\n",
       "built_up_area            0.029372\n",
       "area                     0.020464\n",
       "others                  -0.007734\n",
       "carpet_area             -0.010007\n",
       "floorNum                -0.090344\n",
       "Name: price_cr, dtype: float64"
      ]
     },
     "execution_count": 17,
     "metadata": {},
     "output_type": "execute_result"
    }
   ],
   "source": [
    "df.corr()['price_cr'].sort_values(ascending=False)"
   ]
  },
  {
   "cell_type": "code",
   "execution_count": 18,
   "id": "3afcc7ab",
   "metadata": {},
   "outputs": [],
   "source": [
    "df['nearbyLoc_percentage2'] = ((df['nearbyLoc_score'] - 0) / (98 - 0)) * 100\n",
    "df['nearbyLoc_percentage2'] += 280"
   ]
  },
  {
   "cell_type": "code",
   "execution_count": 19,
   "id": "f62e2829",
   "metadata": {},
   "outputs": [
    {
     "name": "stderr",
     "output_type": "stream",
     "text": [
      "C:\\Users\\HP\\AppData\\Local\\Temp\\ipykernel_9428\\144692134.py:1: FutureWarning: The default value of numeric_only in DataFrame.corr is deprecated. In a future version, it will default to False. Select only valid columns or specify the value of numeric_only to silence this warning.\n",
      "  df.corr()['price_cr'].sort_values(ascending=False)\n"
     ]
    },
    {
     "data": {
      "text/plain": [
       "price_cr                 1.000000\n",
       "super_built_up_area      0.771431\n",
       "bathroom                 0.569422\n",
       "bedRoom                  0.503243\n",
       "servant room             0.401167\n",
       "price_per_sqft           0.396635\n",
       "pooja room               0.339586\n",
       "store room               0.305395\n",
       "study room               0.256776\n",
       "furnishing_type          0.240554\n",
       "nearbyLoc_percentage2    0.192679\n",
       "nearbyLoc_score          0.192679\n",
       "nearbyLoc_percentage1    0.192679\n",
       "nearbyLoc_percentage     0.192679\n",
       "luxury_score             0.099046\n",
       "built_up_area            0.029372\n",
       "area                     0.020464\n",
       "others                  -0.007734\n",
       "carpet_area             -0.010007\n",
       "floorNum                -0.090344\n",
       "Name: price_cr, dtype: float64"
      ]
     },
     "execution_count": 19,
     "metadata": {},
     "output_type": "execute_result"
    }
   ],
   "source": [
    "df.corr()['price_cr'].sort_values(ascending=False)"
   ]
  },
  {
   "cell_type": "code",
   "execution_count": 20,
   "id": "d80f2214",
   "metadata": {},
   "outputs": [],
   "source": [
    "df.drop(columns=['nearbyLoc_percentage1','nearbyLoc_percentage','nearbyLoc_percentage2'],inplace=True)"
   ]
  },
  {
   "cell_type": "code",
   "execution_count": 21,
   "id": "ef0cdfc9",
   "metadata": {},
   "outputs": [
    {
     "data": {
      "text/plain": [
       "Index(['property_type', 'society', 'sector', 'price_cr', 'price_per_sqft',\n",
       "       'area', 'areaWithType', 'bedRoom', 'bathroom', 'balcony', 'floorNum',\n",
       "       'facing', 'agePossession', 'super_built_up_area', 'built_up_area',\n",
       "       'carpet_area', 'study room', 'servant room', 'store room', 'pooja room',\n",
       "       'others', 'furnishing_type', 'luxury_score', 'nearbyLoc_score'],\n",
       "      dtype='object')"
      ]
     },
     "execution_count": 21,
     "metadata": {},
     "output_type": "execute_result"
    }
   ],
   "source": [
    "df.columns"
   ]
  },
  {
   "cell_type": "code",
   "execution_count": null,
   "id": "5356c184",
   "metadata": {},
   "outputs": [],
   "source": []
  }
 ],
 "metadata": {
  "kernelspec": {
   "display_name": "Python 3 (ipykernel)",
   "language": "python",
   "name": "python3"
  },
  "language_info": {
   "codemirror_mode": {
    "name": "ipython",
    "version": 3
   },
   "file_extension": ".py",
   "mimetype": "text/x-python",
   "name": "python",
   "nbconvert_exporter": "python",
   "pygments_lexer": "ipython3",
   "version": "3.11.2"
  }
 },
 "nbformat": 4,
 "nbformat_minor": 5
}
